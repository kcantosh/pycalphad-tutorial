{
 "cells": [
  {
   "cell_type": "markdown",
   "metadata": {},
   "source": [
    "# Plotting Phase Diagrams:\n",
    "## Binary Phase Diagrams\n",
    "Finally we would like to create phase diagrams from our .TDB files. This can be done using the `binplot()` command. Calculating phase diagrams can be time consuming depending on the number of points in your calculation and may take anywhere between several minutes and several hours. In upcoming versions of the software this speed will likely improve so look for updates. The settings below have been set to run phase diagrams quickly with large step sizes."
   ]
  },
  {
   "cell_type": "code",
   "execution_count": null,
   "metadata": {
    "scrolled": true
   },
   "outputs": [],
   "source": [
    "%matplotlib inline\n",
    "import matplotlib.pyplot as plt\n",
    "from pycalphad import Database, binplot\n",
    "import pycalphad.variables as v\n",
    "\n",
    "db = Database('Cr-Fe-Ni.tdb')\n",
    "\n",
    "phases = list(db.phases.keys())\n",
    "fig = plt.figure(figsize=(9,6))\n",
    "binplot(db, ['NI', 'CR', 'VA'], phases, {v.X('CR'):(0,1,0.02),v.T: (400, 2500, 10),v.P:101325},  ax=fig.gca())\n",
    "plt.show()    "
   ]
  },
  {
   "cell_type": "markdown",
   "metadata": {},
   "source": [
    "## Ternary Phase Diagrams\n",
    "similar in the way that binary phase diagram can be created using the binplot() we can use the command ternplot() to make ternary phase diagrams."
   ]
  },
  {
   "cell_type": "code",
   "execution_count": null,
   "metadata": {},
   "outputs": [],
   "source": [
    "%matplotlib inline\n",
    "from pycalphad import Database, ternplot\n",
    "from pycalphad import variables as v\n",
    "\n",
    "db = Database('Cr-Fe-Ni.tdb')\n",
    "comps = ['CR', 'FE', 'NI', 'VA']\n",
    "phases = list(db.phases.keys())\n",
    "conds = {v.T: 830, v.P:101325, v.X('FE'): (0,1,0.015), v.X('NI'): (0,1,0.015)}\n",
    "\n",
    "ternplot(db, comps, phases, conds, x=v.X('FE'), y=v.X('NI'))"
   ]
  }
 ],
 "metadata": {
  "kernelspec": {
   "display_name": "Python 3",
   "language": "python",
   "name": "python3"
  },
  "language_info": {
   "codemirror_mode": {
    "name": "ipython",
    "version": 3
   },
   "file_extension": ".py",
   "mimetype": "text/x-python",
   "name": "python",
   "nbconvert_exporter": "python",
   "pygments_lexer": "ipython3",
   "version": "3.5.2"
  }
 },
 "nbformat": 4,
 "nbformat_minor": 2
}
